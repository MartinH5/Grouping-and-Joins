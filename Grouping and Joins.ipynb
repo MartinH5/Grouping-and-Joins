{
 "cells": [
  {
   "cell_type": "markdown",
   "metadata": {},
   "source": [
    "# Grouping and More Joins"
   ]
  },
  {
   "cell_type": "markdown",
   "metadata": {},
   "source": [
    "### 0. Setup"
   ]
  },
  {
   "cell_type": "code",
   "execution_count": 1,
   "metadata": {},
   "outputs": [
    {
     "data": {
      "text/plain": [
       "'Connected: appdev@appdev'"
      ]
     },
     "execution_count": 1,
     "metadata": {},
     "output_type": "execute_result"
    }
   ],
   "source": [
    "from IPython.display import Image\n",
    "from IPython.core.display import HTML\n",
    "%load_ext sql\n",
    "%sql postgresql://appdev@data:5432/appdev"
   ]
  },
  {
   "cell_type": "markdown",
   "metadata": {},
   "source": [
    "\n",
    "### 1. Using a single join and a grouping, write a query that allows you to find the forename, surname, driverid and the total number of wins for each driver in the f1db schema."
   ]
  },
  {
   "cell_type": "code",
   "execution_count": 16,
   "metadata": {},
   "outputs": [
    {
     "name": "stdout",
     "output_type": "stream",
     "text": [
      "10 rows affected.\n"
     ]
    },
    {
     "data": {
      "text/html": [
       "<table>\n",
       "    <tr>\n",
       "        <th>driverid</th>\n",
       "        <th>forename</th>\n",
       "        <th>surname</th>\n",
       "        <th>wins</th>\n",
       "    </tr>\n",
       "    <tr>\n",
       "        <td>105</td>\n",
       "        <td>Michele</td>\n",
       "        <td>Alboreto</td>\n",
       "        <td>5</td>\n",
       "    </tr>\n",
       "    <tr>\n",
       "        <td>55</td>\n",
       "        <td>Jean</td>\n",
       "        <td>Alesi</td>\n",
       "        <td>1</td>\n",
       "    </tr>\n",
       "    <tr>\n",
       "        <td>4</td>\n",
       "        <td>Fernando</td>\n",
       "        <td>Alonso</td>\n",
       "        <td>32</td>\n",
       "    </tr>\n",
       "    <tr>\n",
       "        <td>207</td>\n",
       "        <td>Mario</td>\n",
       "        <td>Andretti</td>\n",
       "        <td>12</td>\n",
       "    </tr>\n",
       "    <tr>\n",
       "        <td>163</td>\n",
       "        <td>René</td>\n",
       "        <td>Arnoux</td>\n",
       "        <td>7</td>\n",
       "    </tr>\n",
       "    <tr>\n",
       "        <td>647</td>\n",
       "        <td>Alberto</td>\n",
       "        <td>Ascari</td>\n",
       "        <td>13</td>\n",
       "    </tr>\n",
       "    <tr>\n",
       "        <td>394</td>\n",
       "        <td>Giancarlo</td>\n",
       "        <td>Baghetti</td>\n",
       "        <td>1</td>\n",
       "    </tr>\n",
       "    <tr>\n",
       "        <td>385</td>\n",
       "        <td>Lorenzo</td>\n",
       "        <td>Bandini</td>\n",
       "        <td>1</td>\n",
       "    </tr>\n",
       "    <tr>\n",
       "        <td>22</td>\n",
       "        <td>Rubens</td>\n",
       "        <td>Barrichello</td>\n",
       "        <td>11</td>\n",
       "    </tr>\n",
       "    <tr>\n",
       "        <td>306</td>\n",
       "        <td>Jean-Pierre</td>\n",
       "        <td>Beltoise</td>\n",
       "        <td>1</td>\n",
       "    </tr>\n",
       "</table>"
      ],
      "text/plain": [
       "[(105, 'Michele', 'Alboreto', 5),\n",
       " (55, 'Jean', 'Alesi', 1),\n",
       " (4, 'Fernando', 'Alonso', 32),\n",
       " (207, 'Mario', 'Andretti', 12),\n",
       " (163, 'René', 'Arnoux', 7),\n",
       " (647, 'Alberto', 'Ascari', 13),\n",
       " (394, 'Giancarlo', 'Baghetti', 1),\n",
       " (385, 'Lorenzo', 'Bandini', 1),\n",
       " (22, 'Rubens', 'Barrichello', 11),\n",
       " (306, 'Jean-Pierre', 'Beltoise', 1)]"
      ]
     },
     "execution_count": 16,
     "metadata": {},
     "output_type": "execute_result"
    }
   ],
   "source": [
    "%%sql \n",
    "SELECT drivers.driverid as driverid,\n",
    "  drivers.forename as forename,\n",
    "  drivers.surname as surname,\n",
    "  count(results.position) as wins\n",
    "FROM drivers\n",
    "JOIN results USING (driverid)\n",
    "WHERE results.position = 1 \n",
    "GROUP BY (drivers.driverid) \n",
    "ORDER BY surname\n",
    "LIMIT 10;"
   ]
  },
  {
   "cell_type": "markdown",
   "metadata": {},
   "source": [
    "The SQL statement creates this list of drivers containing the specified information. I chose to limit it to only 10 entires, but removing the limiter will give all 107 results."
   ]
  },
  {
   "cell_type": "markdown",
   "metadata": {},
   "source": [
    "### 2. Write a query that joins the tables results, constructors and drivers to show the amount of times a driver has driven a car from a constructor. In other words how many times one driver (for instance Schumacher) has driven a constructor (for instance Mercedes). Your table should have three fields: drivers.driverref, constructors.name and count(*) (showing the number of times the driver has driven the constructor)."
   ]
  },
  {
   "cell_type": "code",
   "execution_count": 30,
   "metadata": {},
   "outputs": [
    {
     "name": "stdout",
     "output_type": "stream",
     "text": [
      "10 rows affected.\n"
     ]
    },
    {
     "data": {
      "text/html": [
       "<table>\n",
       "    <tr>\n",
       "        <th>driver</th>\n",
       "        <th>constructor</th>\n",
       "        <th>time</th>\n",
       "    </tr>\n",
       "    <tr>\n",
       "        <td>michael_schumacher</td>\n",
       "        <td>Ferrari</td>\n",
       "        <td>181</td>\n",
       "    </tr>\n",
       "    <tr>\n",
       "        <td>coulthard</td>\n",
       "        <td>McLaren</td>\n",
       "        <td>150</td>\n",
       "    </tr>\n",
       "    <tr>\n",
       "        <td>massa</td>\n",
       "        <td>Ferrari</td>\n",
       "        <td>140</td>\n",
       "    </tr>\n",
       "    <tr>\n",
       "        <td>button</td>\n",
       "        <td>McLaren</td>\n",
       "        <td>137</td>\n",
       "    </tr>\n",
       "    <tr>\n",
       "        <td>rosberg</td>\n",
       "        <td>Mercedes</td>\n",
       "        <td>136</td>\n",
       "    </tr>\n",
       "    <tr>\n",
       "        <td>hakkinen</td>\n",
       "        <td>McLaren</td>\n",
       "        <td>133</td>\n",
       "    </tr>\n",
       "    <tr>\n",
       "        <td>laffite</td>\n",
       "        <td>Ligier</td>\n",
       "        <td>132</td>\n",
       "    </tr>\n",
       "    <tr>\n",
       "        <td>webber</td>\n",
       "        <td>Red Bull</td>\n",
       "        <td>129</td>\n",
       "    </tr>\n",
       "    <tr>\n",
       "        <td>raikkonen</td>\n",
       "        <td>Ferrari</td>\n",
       "        <td>126</td>\n",
       "    </tr>\n",
       "    <tr>\n",
       "        <td>vettel</td>\n",
       "        <td>Red Bull</td>\n",
       "        <td>113</td>\n",
       "    </tr>\n",
       "</table>"
      ],
      "text/plain": [
       "[('michael_schumacher', 'Ferrari', 181),\n",
       " ('coulthard', 'McLaren', 150),\n",
       " ('massa', 'Ferrari', 140),\n",
       " ('button', 'McLaren', 137),\n",
       " ('rosberg', 'Mercedes', 136),\n",
       " ('hakkinen', 'McLaren', 133),\n",
       " ('laffite', 'Ligier', 132),\n",
       " ('webber', 'Red Bull', 129),\n",
       " ('raikkonen', 'Ferrari', 126),\n",
       " ('vettel', 'Red Bull', 113)]"
      ]
     },
     "execution_count": 30,
     "metadata": {},
     "output_type": "execute_result"
    }
   ],
   "source": [
    "%%sql\n",
    "SELECT \n",
    "    driverref as Driver, \n",
    "    constructors.name as Constructor,\n",
    "    count(*) as Time\n",
    "FROM drivers \n",
    "JOIN results USING (driverid)\n",
    "JOIN constructors USING (constructorid)\n",
    "GROUP BY (drivers.driverref, constructors.name)\n",
    "ORDER BY time DESC\n",
    "Limit 10;"
   ]
  },
  {
   "cell_type": "markdown",
   "metadata": {},
   "source": [
    "### 3. Now we have found the most driven vehicles even for those who didn't finish the race. Extend the query from 2 by removing all tuples from the result where the status is not \"Finished\"."
   ]
  },
  {
   "cell_type": "code",
   "execution_count": 32,
   "metadata": {},
   "outputs": [
    {
     "name": "stdout",
     "output_type": "stream",
     "text": [
      "10 rows affected.\n"
     ]
    },
    {
     "data": {
      "text/html": [
       "<table>\n",
       "    <tr>\n",
       "        <th>driver</th>\n",
       "        <th>constructor</th>\n",
       "        <th>time</th>\n",
       "    </tr>\n",
       "    <tr>\n",
       "        <td>michael_schumacher</td>\n",
       "        <td>Ferrari</td>\n",
       "        <td>141</td>\n",
       "    </tr>\n",
       "    <tr>\n",
       "        <td>massa</td>\n",
       "        <td>Ferrari</td>\n",
       "        <td>112</td>\n",
       "    </tr>\n",
       "    <tr>\n",
       "        <td>rosberg</td>\n",
       "        <td>Mercedes</td>\n",
       "        <td>109</td>\n",
       "    </tr>\n",
       "    <tr>\n",
       "        <td>webber</td>\n",
       "        <td>Red Bull</td>\n",
       "        <td>100</td>\n",
       "    </tr>\n",
       "    <tr>\n",
       "        <td>vettel</td>\n",
       "        <td>Red Bull</td>\n",
       "        <td>97</td>\n",
       "    </tr>\n",
       "    <tr>\n",
       "        <td>raikkonen</td>\n",
       "        <td>Ferrari</td>\n",
       "        <td>92</td>\n",
       "    </tr>\n",
       "    <tr>\n",
       "        <td>button</td>\n",
       "        <td>McLaren</td>\n",
       "        <td>87</td>\n",
       "    </tr>\n",
       "    <tr>\n",
       "        <td>alonso</td>\n",
       "        <td>Ferrari</td>\n",
       "        <td>87</td>\n",
       "    </tr>\n",
       "    <tr>\n",
       "        <td>coulthard</td>\n",
       "        <td>McLaren</td>\n",
       "        <td>85</td>\n",
       "    </tr>\n",
       "    <tr>\n",
       "        <td>hamilton</td>\n",
       "        <td>Mercedes</td>\n",
       "        <td>85</td>\n",
       "    </tr>\n",
       "</table>"
      ],
      "text/plain": [
       "[('michael_schumacher', 'Ferrari', 141),\n",
       " ('massa', 'Ferrari', 112),\n",
       " ('rosberg', 'Mercedes', 109),\n",
       " ('webber', 'Red Bull', 100),\n",
       " ('vettel', 'Red Bull', 97),\n",
       " ('raikkonen', 'Ferrari', 92),\n",
       " ('button', 'McLaren', 87),\n",
       " ('alonso', 'Ferrari', 87),\n",
       " ('coulthard', 'McLaren', 85),\n",
       " ('hamilton', 'Mercedes', 85)]"
      ]
     },
     "execution_count": 32,
     "metadata": {},
     "output_type": "execute_result"
    }
   ],
   "source": [
    "%%sql\n",
    "SELECT \n",
    "    driverref as Driver, \n",
    "    constructors.name as Constructor,\n",
    "    count(*) as Time\n",
    "FROM drivers \n",
    "JOIN results USING (driverid)\n",
    "JOIN constructors USING (constructorid)\n",
    "WHERE results.statusid = 1\n",
    "GROUP BY (drivers.driverref, constructors.name)\n",
    "ORDER BY time DESC\n",
    "Limit 10;"
   ]
  },
  {
   "cell_type": "markdown",
   "metadata": {},
   "source": [
    "### 4. Create a third (and new) query that finds the amount of milliseconds spent in pitstop (see the pitstops relation) by each unique combinations of driverid and raceid."
   ]
  },
  {
   "cell_type": "code",
   "execution_count": 38,
   "metadata": {},
   "outputs": [
    {
     "name": "stdout",
     "output_type": "stream",
     "text": [
      "Done.\n"
     ]
    },
    {
     "data": {
      "text/plain": [
       "[]"
      ]
     },
     "execution_count": 38,
     "metadata": {},
     "output_type": "execute_result"
    }
   ],
   "source": [
    "%%sql\n",
    "CREATE VIEW pitstop_time as \n",
    "SELECT \n",
    "    driverid as drivers_id,\n",
    "    races.raceid as race_id,\n",
    "    driverref as driver,\n",
    "    count(pitstops.driverid) as pit_stops,\n",
    "    sum(pitstops.milliseconds) as milliseconds\n",
    "FROM drivers\n",
    "JOIN pitstops USING (driverid)\n",
    "JOIN races USING (raceid)\n",
    "GROUP BY (drivers.driverid, races.raceid)\n",
    "ORDER BY milliseconds\n"
   ]
  },
  {
   "cell_type": "code",
   "execution_count": 39,
   "metadata": {},
   "outputs": [
    {
     "name": "stdout",
     "output_type": "stream",
     "text": [
      "15 rows affected.\n"
     ]
    },
    {
     "data": {
      "text/html": [
       "<table>\n",
       "    <tr>\n",
       "        <th>drivers_id</th>\n",
       "        <th>race_id</th>\n",
       "        <th>driver</th>\n",
       "        <th>pit_stops</th>\n",
       "        <th>milliseconds</th>\n",
       "    </tr>\n",
       "    <tr>\n",
       "        <td>154</td>\n",
       "        <td>909</td>\n",
       "        <td>grosjean</td>\n",
       "        <td>1</td>\n",
       "        <td>18928</td>\n",
       "    </tr>\n",
       "    <tr>\n",
       "        <td>17</td>\n",
       "        <td>877</td>\n",
       "        <td>webber</td>\n",
       "        <td>1</td>\n",
       "        <td>19066</td>\n",
       "    </tr>\n",
       "    <tr>\n",
       "        <td>4</td>\n",
       "        <td>877</td>\n",
       "        <td>alonso</td>\n",
       "        <td>1</td>\n",
       "        <td>19368</td>\n",
       "    </tr>\n",
       "    <tr>\n",
       "        <td>18</td>\n",
       "        <td>877</td>\n",
       "        <td>button</td>\n",
       "        <td>1</td>\n",
       "        <td>19455</td>\n",
       "    </tr>\n",
       "    <tr>\n",
       "        <td>155</td>\n",
       "        <td>877</td>\n",
       "        <td>kobayashi</td>\n",
       "        <td>1</td>\n",
       "        <td>19529</td>\n",
       "    </tr>\n",
       "    <tr>\n",
       "        <td>13</td>\n",
       "        <td>877</td>\n",
       "        <td>massa</td>\n",
       "        <td>1</td>\n",
       "        <td>19585</td>\n",
       "    </tr>\n",
       "    <tr>\n",
       "        <td>18</td>\n",
       "        <td>871</td>\n",
       "        <td>button</td>\n",
       "        <td>1</td>\n",
       "        <td>19668</td>\n",
       "    </tr>\n",
       "    <tr>\n",
       "        <td>822</td>\n",
       "        <td>955</td>\n",
       "        <td>bottas</td>\n",
       "        <td>1</td>\n",
       "        <td>19732</td>\n",
       "    </tr>\n",
       "    <tr>\n",
       "        <td>10</td>\n",
       "        <td>877</td>\n",
       "        <td>glock</td>\n",
       "        <td>1</td>\n",
       "        <td>19884</td>\n",
       "    </tr>\n",
       "    <tr>\n",
       "        <td>3</td>\n",
       "        <td>955</td>\n",
       "        <td>rosberg</td>\n",
       "        <td>1</td>\n",
       "        <td>20058</td>\n",
       "    </tr>\n",
       "    <tr>\n",
       "        <td>1</td>\n",
       "        <td>955</td>\n",
       "        <td>hamilton</td>\n",
       "        <td>1</td>\n",
       "        <td>20108</td>\n",
       "    </tr>\n",
       "    <tr>\n",
       "        <td>30</td>\n",
       "        <td>864</td>\n",
       "        <td>michael_schumacher</td>\n",
       "        <td>1</td>\n",
       "        <td>20113</td>\n",
       "    </tr>\n",
       "    <tr>\n",
       "        <td>18</td>\n",
       "        <td>886</td>\n",
       "        <td>button</td>\n",
       "        <td>1</td>\n",
       "        <td>20212</td>\n",
       "    </tr>\n",
       "    <tr>\n",
       "        <td>814</td>\n",
       "        <td>858</td>\n",
       "        <td>resta</td>\n",
       "        <td>1</td>\n",
       "        <td>20216</td>\n",
       "    </tr>\n",
       "    <tr>\n",
       "        <td>30</td>\n",
       "        <td>856</td>\n",
       "        <td>michael_schumacher</td>\n",
       "        <td>1</td>\n",
       "        <td>20238</td>\n",
       "    </tr>\n",
       "</table>"
      ],
      "text/plain": [
       "[(154, 909, 'grosjean', 1, Decimal('18928')),\n",
       " (17, 877, 'webber', 1, Decimal('19066')),\n",
       " (4, 877, 'alonso', 1, Decimal('19368')),\n",
       " (18, 877, 'button', 1, Decimal('19455')),\n",
       " (155, 877, 'kobayashi', 1, Decimal('19529')),\n",
       " (13, 877, 'massa', 1, Decimal('19585')),\n",
       " (18, 871, 'button', 1, Decimal('19668')),\n",
       " (822, 955, 'bottas', 1, Decimal('19732')),\n",
       " (10, 877, 'glock', 1, Decimal('19884')),\n",
       " (3, 955, 'rosberg', 1, Decimal('20058')),\n",
       " (1, 955, 'hamilton', 1, Decimal('20108')),\n",
       " (30, 864, 'michael_schumacher', 1, Decimal('20113')),\n",
       " (18, 886, 'button', 1, Decimal('20212')),\n",
       " (814, 858, 'resta', 1, Decimal('20216')),\n",
       " (30, 856, 'michael_schumacher', 1, Decimal('20238'))]"
      ]
     },
     "execution_count": 39,
     "metadata": {},
     "output_type": "execute_result"
    }
   ],
   "source": [
    "%sql SELECT * FROM pitstop_time limit 15"
   ]
  },
  {
   "cell_type": "markdown",
   "metadata": {},
   "source": [
    "### 5. Time to put everything together. Use the query for 4 as a join subquery in query 3 (see slides on \"a query within a query\") to find the total amount of pitstop time, for each result in query 3"
   ]
  },
  {
   "cell_type": "code",
   "execution_count": 42,
   "metadata": {},
   "outputs": [
    {
     "name": "stdout",
     "output_type": "stream",
     "text": [
      "Done.\n",
      "Done.\n"
     ]
    },
    {
     "data": {
      "text/plain": [
       "[]"
      ]
     },
     "execution_count": 42,
     "metadata": {},
     "output_type": "execute_result"
    }
   ],
   "source": [
    "%%sql\n",
    "DROP VIEW IF EXISTS finished_vehicles;\n",
    "CREATE VIEW finished_vehicles AS\n",
    "SELECT driverref as driver,\n",
    "       constructors.name as constructor,\n",
    "       count(*) as time\n",
    "FROM drivers\n",
    "JOIN results USING (driverid)\n",
    "JOIN constructors USING (constructorid)\n",
    "WHERE results.statusid = 1\n",
    "GROUP BY (drivers.driverref, constructors.name)\n",
    "ORDER BY time DESC;"
   ]
  },
  {
   "cell_type": "code",
   "execution_count": 48,
   "metadata": {},
   "outputs": [
    {
     "name": "stdout",
     "output_type": "stream",
     "text": [
      "10 rows affected.\n"
     ]
    },
    {
     "data": {
      "text/html": [
       "<table>\n",
       "    <tr>\n",
       "        <th>driver</th>\n",
       "        <th>constructor</th>\n",
       "        <th>time</th>\n",
       "    </tr>\n",
       "    <tr>\n",
       "        <td>hamilton</td>\n",
       "        <td>Mercedes</td>\n",
       "        <td>12428578</td>\n",
       "    </tr>\n",
       "    <tr>\n",
       "        <td>rosberg</td>\n",
       "        <td>Mercedes</td>\n",
       "        <td>12390412</td>\n",
       "    </tr>\n",
       "    <tr>\n",
       "        <td>perez</td>\n",
       "        <td>Force India</td>\n",
       "        <td>11876732</td>\n",
       "    </tr>\n",
       "    <tr>\n",
       "        <td>massa</td>\n",
       "        <td>Williams</td>\n",
       "        <td>11874456</td>\n",
       "    </tr>\n",
       "    <tr>\n",
       "        <td>ricciardo</td>\n",
       "        <td>Red Bull</td>\n",
       "        <td>11816929</td>\n",
       "    </tr>\n",
       "    <tr>\n",
       "        <td>button</td>\n",
       "        <td>McLaren</td>\n",
       "        <td>11800713</td>\n",
       "    </tr>\n",
       "    <tr>\n",
       "        <td>bottas</td>\n",
       "        <td>Williams</td>\n",
       "        <td>10665109</td>\n",
       "    </tr>\n",
       "    <tr>\n",
       "        <td>hulkenberg</td>\n",
       "        <td>Force India</td>\n",
       "        <td>10198930</td>\n",
       "    </tr>\n",
       "    <tr>\n",
       "        <td>vettel</td>\n",
       "        <td>Ferrari</td>\n",
       "        <td>9248461</td>\n",
       "    </tr>\n",
       "    <tr>\n",
       "        <td>nasr</td>\n",
       "        <td>Sauber</td>\n",
       "        <td>8513533</td>\n",
       "    </tr>\n",
       "</table>"
      ],
      "text/plain": [
       "[('hamilton', 'Mercedes', Decimal('12428578')),\n",
       " ('rosberg', 'Mercedes', Decimal('12390412')),\n",
       " ('perez', 'Force India', Decimal('11876732')),\n",
       " ('massa', 'Williams', Decimal('11874456')),\n",
       " ('ricciardo', 'Red Bull', Decimal('11816929')),\n",
       " ('button', 'McLaren', Decimal('11800713')),\n",
       " ('bottas', 'Williams', Decimal('10665109')),\n",
       " ('hulkenberg', 'Force India', Decimal('10198930')),\n",
       " ('vettel', 'Ferrari', Decimal('9248461')),\n",
       " ('nasr', 'Sauber', Decimal('8513533'))]"
      ]
     },
     "execution_count": 48,
     "metadata": {},
     "output_type": "execute_result"
    }
   ],
   "source": [
    "%%sql\n",
    "SELECT fv.driver,\n",
    "       fv.constructor,\n",
    "       sum(pt.milliseconds) as time\n",
    "FROM finished_vehicles as fv\n",
    "INNER JOIN (SELECT\n",
    "              drivers_id,\n",
    "              race_id,\n",
    "              driver,\n",
    "              pitstop_time.milliseconds,\n",
    "              results.constructorid,\n",
    "              constructors.name\n",
    "          FROM pitstop_time\n",
    "          JOIN results ON results.driverid = pitstop_time.drivers_id\n",
    "          AND results.raceid = pitstop_time.race_id\n",
    "          JOIN constructors ON constructors.constructorid = results.constructorid) as pt\n",
    "ON pt.driver = fv.driver AND pt.name = fv.constructor\n",
    "GROUP BY (fv.driver, fv.constructor)\n",
    "ORDER BY time DESC\n",
    "LIMIT 10;"
   ]
  },
  {
   "cell_type": "markdown",
   "metadata": {},
   "source": [
    "### 6. Find the driver with the least pitstop time"
   ]
  },
  {
   "cell_type": "code",
   "execution_count": 58,
   "metadata": {},
   "outputs": [
    {
     "name": "stdout",
     "output_type": "stream",
     "text": [
      "1 rows affected.\n"
     ]
    },
    {
     "data": {
      "text/html": [
       "<table>\n",
       "    <tr>\n",
       "        <th>driver</th>\n",
       "        <th>average</th>\n",
       "    </tr>\n",
       "    <tr>\n",
       "        <td>gasly</td>\n",
       "        <td>25044.000000000000</td>\n",
       "    </tr>\n",
       "</table>"
      ],
      "text/plain": [
       "[('gasly', Decimal('25044.000000000000'))]"
      ]
     },
     "execution_count": 58,
     "metadata": {},
     "output_type": "execute_result"
    }
   ],
   "source": [
    "%%sql\n",
    "SELECT \n",
    "    driver, \n",
    "    AVG(milliseconds) as average \n",
    "FROM\n",
    "    pitstop_time\n",
    "GROUP BY\n",
    "    (driver)\n",
    "ORDER BY \n",
    "    average ASC \n",
    "LIMIT 1;"
   ]
  }
 ],
 "metadata": {
  "kernelspec": {
   "display_name": "Python 3",
   "language": "python",
   "name": "python3"
  },
  "language_info": {
   "codemirror_mode": {
    "name": "ipython",
    "version": 3
   },
   "file_extension": ".py",
   "mimetype": "text/x-python",
   "name": "python",
   "nbconvert_exporter": "python",
   "pygments_lexer": "ipython3",
   "version": "3.6.3"
  }
 },
 "nbformat": 4,
 "nbformat_minor": 2
}
